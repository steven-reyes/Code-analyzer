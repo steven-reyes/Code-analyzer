{
 "cells": [
  {
   "cell_type": "markdown",
   "metadata": {},
   "source": [
    "        \"# Exploratory Data Analysis (EDA)\\n\",\n",
    "        \"\\n\",\n",
    "        \"This notebook demonstrates common EDA steps, including:\\n\",\n",
    "        \"1. Importing libraries and loading the dataset.\\n\",\n",
    "        \"2. Viewing data structure (head, info, describe).\\n\",\n",
    "        \"3. Checking for missing values.\\n\",\n",
    "        \"4. Plotting histograms and box plots.\\n\",\n",
    "        \"5. Generating correlation matrices and heatmaps.\\n\",\n",
    "        \"6. Identifying potential outliers.\\n\",\n",
    "        \"7. Summarizing findings.\\n\""
   ]
  },
  {
   "cell_type": "markdown",
   "metadata": {},
   "source": [
    "        \"## 1. Import Libraries\\n\",\n",
    "        \"We'll import `pandas`, `numpy`, `matplotlib`, and `seaborn` for data analysis and visualization.\\n\""
   ]
  },
  {
   "cell_type": "code",
   "execution_count": null,
   "metadata": {
    "vscode": {
     "languageId": "plaintext"
    }
   },
   "outputs": [],
   "source": [
    "        \"import pandas as pd\\n\",\n",
    "        \"import numpy as np\\n\",\n",
    "        \"import matplotlib.pyplot as plt\\n\",\n",
    "        \"import seaborn as sns\\n\",\n",
    "        \"from IPython.display import display\\n\",\n",
    "        \"\\n\",\n",
    "        \"# Set plotting style\\n\",\n",
    "        \"sns.set_style('whitegrid')\\n\",\n",
    "        \"plt.rcParams['figure.figsize'] = (10, 6)\""
   ]
  },
  {
   "cell_type": "markdown",
   "metadata": {},
   "source": [
    "        \"## 2. Load Dataset\\n\",\n",
    "        \"Here, we read a sample dataset from `../../data/raw/dataset.csv`. You can adapt the path based on your actual directory structure.\""
   ]
  },
  {
   "cell_type": "code",
   "execution_count": null,
   "metadata": {
    "vscode": {
     "languageId": "plaintext"
    }
   },
   "outputs": [],
   "source": [
    "        \"# Adjust this path to point to your actual data file\\n\",\n",
    "        \"data_path = '../../data/raw/dataset.csv'\\n\",\n",
    "        \"\\n\",\n",
    "        \"df = pd.read_csv(data_path)\\n\",\n",
    "        \"print('Data loaded. Shape:', df.shape)\\n\",\n",
    "        \"display(df.head())\""
   ]
  },
  {
   "cell_type": "markdown",
   "metadata": {},
   "source": [
    "        \"## 3. Basic Data Overview\\n\",\n",
    "        \"- `.info()` to see column types and non-null counts.\\n\",\n",
    "        \"- `.describe()` to get numerical summaries.\\n\""
   ]
  },
  {
   "cell_type": "code",
   "execution_count": null,
   "metadata": {
    "vscode": {
     "languageId": "plaintext"
    }
   },
   "outputs": [],
   "source": [
    "        \"df.info()\\n\",\n",
    "        \"display(df.describe())\""
   ]
  },
  {
   "cell_type": "markdown",
   "metadata": {},
   "source": [
    "        \"### 3.1 Checking for Missing Values\\n\",\n",
    "        \"We can use `.isnull().sum()` or `.isna().sum()` to see if any columns have missing data.\\n\""
   ]
  },
  {
   "cell_type": "code",
   "execution_count": null,
   "metadata": {
    "vscode": {
     "languageId": "plaintext"
    }
   },
   "outputs": [],
   "source": [
    "        \"missing_counts = df.isnull().sum()\\n\",\n",
    "        \"print('Missing values per column:')\\n\",\n",
    "        \"display(missing_counts)\\n\",\n",
    "        \"\\n\",\n",
    "        \"# Optionally, see percentage of missing data\\n\",\n",
    "        \"missing_percent = (missing_counts / len(df)) * 100\\n\",\n",
    "        \"print('Percentage of missing data per column:')\\n\",\n",
    "        \"display(missing_percent)\""
   ]
  },
  {
   "cell_type": "markdown",
   "metadata": {},
   "source": [
    "        \"## 4. Data Visualization\\n\",\n",
    "        \"We'll plot histograms for numeric columns and boxplots to check distributions and outliers.\\n\"\n"
   ]
  },
  {
   "cell_type": "code",
   "execution_count": null,
   "metadata": {
    "vscode": {
     "languageId": "plaintext"
    }
   },
   "outputs": [],
   "source": [
    "        \"# Identify numeric columns for histograms\\n\",\n",
    "        \"numeric_cols = df.select_dtypes(include=[np.number]).columns\\n\",\n",
    "        \"df[numeric_cols].hist(bins=30, figsize=(12, 8))\\n\",\n",
    "        \"plt.suptitle('Histograms of Numeric Features', fontsize=16)\\n\",\n",
    "        \"plt.tight_layout()\\n\",\n",
    "        \"plt.show()\""
   ]
  },
  {
   "cell_type": "code",
   "execution_count": null,
   "metadata": {
    "vscode": {
     "languageId": "plaintext"
    }
   },
   "outputs": [],
   "source": [
    "        \"# Boxplots for numeric features\\n\",\n",
    "        \"fig, axs = plt.subplots(nrows=1, ncols=len(numeric_cols), figsize=(5*len(numeric_cols), 5))\\n\",\n",
    "        \"if len(numeric_cols) == 1:\\n\",\n",
    "        \"    # If there's only one numeric col, wrap in a list\\n\",\n",
    "        \"    axs = [axs]\\n\",\n",
    "        \"\\n\",\n",
    "        \"for i, col in enumerate(numeric_cols):\\n\",\n",
    "        \"    sns.boxplot(data=df, y=col, ax=axs[i])\\n\",\n",
    "        \"    axs[i].set_title(f'Boxplot: {col}')\\n\",\n",
    "        \"\\n\",\n",
    "        \"plt.tight_layout()\\n\",\n",
    "        \"plt.show()\""
   ]
  },
  {
   "cell_type": "markdown",
   "metadata": {},
   "source": [
    "        \"## 5. Correlation Matrix and Heatmap\\n\",\n",
    "        \"We'll create a correlation matrix for numeric features and visualize it with a heatmap.\\n\""
   ]
  },
  {
   "cell_type": "code",
   "execution_count": null,
   "metadata": {
    "vscode": {
     "languageId": "plaintext"
    }
   },
   "outputs": [],
   "source": [
    "        \"corr_matrix = df[numeric_cols].corr()\\n\",\n",
    "        \"plt.figure(figsize=(8, 6))\\n\",\n",
    "        \"sns.heatmap(corr_matrix, annot=True, cmap='coolwarm', fmt='.2f', square=True)\\n\",\n",
    "        \"plt.title('Correlation Heatmap')\\n\",\n",
    "        \"plt.show()\""
   ]
  },
  {
   "cell_type": "markdown",
   "metadata": {
    "vscode": {
     "languageId": "plaintext"
    }
   },
   "source": [
    "        \"## 6. Outlier Detection (Optional)\\n\",\n",
    "        \"We can detect outliers via the **Interquartile Range (IQR)** or Z-scores. Below is a quick IQR method:\\n\""
   ]
  },
  {
   "cell_type": "code",
   "execution_count": null,
   "metadata": {
    "vscode": {
     "languageId": "plaintext"
    }
   },
   "outputs": [],
   "source": [
    "        \"def find_outliers_iqr(data, factor=1.5):\\n\",\n",
    "        \"    # This function returns a boolean mask indicating which points are outliers.\\n\",\n",
    "        \"    q1 = np.percentile(data, 25)\\n\",\n",
    "        \"    q3 = np.percentile(data, 75)\\n\",\n",
    "        \"    iqr = q3 - q1\\n\",\n",
    "        \"    lower_bound = q1 - (factor * iqr)\\n\",\n",
    "        \"    upper_bound = q3 + (factor * iqr)\\n\",\n",
    "        \"    return (data < lower_bound) | (data > upper_bound)\\n\",\n",
    "        \"\\n\",\n",
    "        \"outlier_counts = {}\\n\",\n",
    "        \"for col in numeric_cols:\\n\",\n",
    "        \"    outliers_mask = find_outliers_iqr(df[col].dropna())\\n\",\n",
    "        \"    outlier_count = np.sum(outliers_mask)\\n\",\n",
    "        \"    outlier_counts[col] = outlier_count\\n\",\n",
    "        \"\\n\",\n",
    "        \"print('Outlier counts (IQR method, factor=1.5):')\\n\",\n",
    "        \"display(outlier_counts)\""
   ]
  },
  {
   "cell_type": "markdown",
   "metadata": {},
   "source": [
    "        \"## 7. Potential Next Steps\\n\",\n",
    "        \"- **Data Cleaning**: Handle missing data or outliers.\\n\",\n",
    "        \"- **Feature Engineering**: Create new features, transform existing ones.\\n\",\n",
    "        \"- **Splitting Data**: Split into training and test sets.\\n\",\n",
    "        \"- **Modeling**: Move to training scripts in `ml/scripts/train.py`.\\n\",\n",
    "        \"- **Evaluation**: Use `ml/scripts/evaluate.py`.\\n\""
   ]
  },
  {
   "cell_type": "markdown",
   "metadata": {},
   "source": [
    "        \"## 8. Summary of Findings\\n\",\n",
    "        \"Write any key observations here. For example:\\n\",\n",
    "        \"- Which features have strong correlation?\\n\",\n",
    "        \"- Did you find many missing values?\\n\",\n",
    "        \"- Which features appear to have outliers?\\n\",\n",
    "        \"- Any interesting distribution patterns?\\n\""
   ]
  }
 ],
 "metadata": {
  "language_info": {
   "name": "python"
  }
 },
 "nbformat": 4,
 "nbformat_minor": 2
}
